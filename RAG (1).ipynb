{
  "nbformat": 4,
  "nbformat_minor": 0,
  "metadata": {
    "colab": {
      "provenance": []
    },
    "kernelspec": {
      "name": "python3",
      "display_name": "Python 3"
    },
    "language_info": {
      "name": "python"
    }
  },
  "cells": [
    {
      "cell_type": "code",
      "execution_count": 1,
      "metadata": {
        "id": "T-cNmSRSoUpf"
      },
      "outputs": [],
      "source": [
        "!pip install --upgrade langchain openai  -q"
      ]
    },
    {
      "cell_type": "code",
      "source": [
        "import os\n",
        "os.environ[\"OPENAI_API_KEY\"] = \"\""
      ],
      "metadata": {
        "id": "ieTMxF8momR6"
      },
      "execution_count": 2,
      "outputs": []
    },
    {
      "cell_type": "code",
      "source": [
        "!pip install unstructured -q\n",
        "!pip install unstructured[local-inference] -q\n",
        "!pip install detectron2@git+https://github.com/facebookresearch/detectron2.git@v0.6#egg=detectron2 -q"
      ],
      "metadata": {
        "colab": {
          "base_uri": "https://localhost:8080/"
        },
        "id": "vguOOhtsonRd",
        "outputId": "6e9952a0-94dc-4d2f-b3a7-3c09586508b4"
      },
      "execution_count": 3,
      "outputs": [
        {
          "output_type": "stream",
          "name": "stdout",
          "text": [
            "\u001b[2K     \u001b[90m━━━━━━━━━━━━━━━━━━━━━━━━━━━━━━━━━━━━━━━━\u001b[0m \u001b[32m1.4/1.4 MB\u001b[0m \u001b[31m40.5 MB/s\u001b[0m eta \u001b[36m0:00:00\u001b[0m\n",
            "\u001b[2K     \u001b[90m━━━━━━━━━━━━━━━━━━━━━━━━━━━━━━━━━━━━━━━━\u001b[0m \u001b[32m2.6/2.6 MB\u001b[0m \u001b[31m90.2 MB/s\u001b[0m eta \u001b[36m0:00:00\u001b[0m\n",
            "\u001b[2K     \u001b[90m━━━━━━━━━━━━━━━━━━━━━━━━━━━━━━━━━━━━━━\u001b[0m \u001b[32m101.8/101.8 kB\u001b[0m \u001b[31m12.1 MB/s\u001b[0m eta \u001b[36m0:00:00\u001b[0m\n",
            "\u001b[2K     \u001b[90m━━━━━━━━━━━━━━━━━━━━━━━━━━━━━━━━━━━━━━━━\u001b[0m \u001b[32m5.6/5.6 MB\u001b[0m \u001b[31m100.1 MB/s\u001b[0m eta \u001b[36m0:00:00\u001b[0m\n",
            "\u001b[2K     \u001b[90m━━━━━━━━━━━━━━━━━━━━━━━━━━━━━━━━━━━━━━━━\u001b[0m \u001b[32m5.6/5.6 MB\u001b[0m \u001b[31m105.2 MB/s\u001b[0m eta \u001b[36m0:00:00\u001b[0m\n",
            "\u001b[?25h  Preparing metadata (setup.py) ... \u001b[?25l\u001b[?25hdone\n",
            "\u001b[2K     \u001b[90m━━━━━━━━━━━━━━━━━━━━━━━━━━━━━━━━━━━━━━━\u001b[0m \u001b[32m10.1/10.1 MB\u001b[0m \u001b[31m107.9 MB/s\u001b[0m eta \u001b[36m0:00:00\u001b[0m\n",
            "\u001b[?25h  Preparing metadata (setup.py) ... \u001b[?25l\u001b[?25hdone\n",
            "\u001b[2K     \u001b[90m━━━━━━━━━━━━━━━━━━━━━━━━━━━━━━━━━━━━━━━━\u001b[0m \u001b[32m71.5/71.5 kB\u001b[0m \u001b[31m9.4 MB/s\u001b[0m eta \u001b[36m0:00:00\u001b[0m\n",
            "\u001b[2K     \u001b[90m━━━━━━━━━━━━━━━━━━━━━━━━━━━━━━━━━━━━━━\u001b[0m \u001b[32m238.1/238.1 kB\u001b[0m \u001b[31m22.6 MB/s\u001b[0m eta \u001b[36m0:00:00\u001b[0m\n",
            "\u001b[2K     \u001b[90m━━━━━━━━━━━━━━━━━━━━━━━━━━━━━━━━━━━━━━\u001b[0m \u001b[32m112.2/112.2 kB\u001b[0m \u001b[31m11.5 MB/s\u001b[0m eta \u001b[36m0:00:00\u001b[0m\n",
            "\u001b[?25h  Preparing metadata (setup.py) ... \u001b[?25l\u001b[?25hdone\n",
            "\u001b[2K     \u001b[90m━━━━━━━━━━━━━━━━━━━━━━━━━━━━━━━━━━━━━━━━\u001b[0m \u001b[32m4.3/4.3 MB\u001b[0m \u001b[31m81.9 MB/s\u001b[0m eta \u001b[36m0:00:00\u001b[0m\n",
            "\u001b[2K     \u001b[90m━━━━━━━━━━━━━━━━━━━━━━━━━━━━━━━━━━━━━━\u001b[0m \u001b[32m153.0/153.0 kB\u001b[0m \u001b[31m16.0 MB/s\u001b[0m eta \u001b[36m0:00:00\u001b[0m\n",
            "\u001b[2K     \u001b[90m━━━━━━━━━━━━━━━━━━━━━━━━━━━━━━━━━━━━━━━━\u001b[0m \u001b[32m69.6/69.6 kB\u001b[0m \u001b[31m8.5 MB/s\u001b[0m eta \u001b[36m0:00:00\u001b[0m\n",
            "\u001b[2K     \u001b[90m━━━━━━━━━━━━━━━━━━━━━━━━━━━━━━━━━━━━━━━\u001b[0m \u001b[32m51.1/51.1 kB\u001b[0m \u001b[31m267.8 kB/s\u001b[0m eta \u001b[36m0:00:00\u001b[0m\n",
            "\u001b[2K     \u001b[90m━━━━━━━━━━━━━━━━━━━━━━━━━━━━━━━━━━━━━━━━\u001b[0m \u001b[32m58.3/58.3 kB\u001b[0m \u001b[31m7.2 MB/s\u001b[0m eta \u001b[36m0:00:00\u001b[0m\n",
            "\u001b[?25h  Building wheel for python-docx (setup.py) ... \u001b[?25l\u001b[?25hdone\n",
            "  Building wheel for python-pptx (setup.py) ... \u001b[?25l\u001b[?25hdone\n",
            "  Building wheel for olefile (setup.py) ... \u001b[?25l\u001b[?25hdone\n",
            "\u001b[2K     \u001b[90m━━━━━━━━━━━━━━━━━━━━━━━━━━━━━━━━━━━━━━━━\u001b[0m \u001b[32m43.9/43.9 kB\u001b[0m \u001b[31m2.8 MB/s\u001b[0m eta \u001b[36m0:00:00\u001b[0m\n",
            "\u001b[2K     \u001b[90m━━━━━━━━━━━━━━━━━━━━━━━━━━━━━━━━━━━━━━━━\u001b[0m \u001b[32m19.2/19.2 MB\u001b[0m \u001b[31m51.3 MB/s\u001b[0m eta \u001b[36m0:00:00\u001b[0m\n",
            "\u001b[2K     \u001b[90m━━━━━━━━━━━━━━━━━━━━━━━━━━━━━━━━━━━━━━━━\u001b[0m \u001b[32m45.7/45.7 kB\u001b[0m \u001b[31m4.2 MB/s\u001b[0m eta \u001b[36m0:00:00\u001b[0m\n",
            "\u001b[2K     \u001b[90m━━━━━━━━━━━━━━━━━━━━━━━━━━━━━━━━━━━━━━\u001b[0m \u001b[32m268.8/268.8 kB\u001b[0m \u001b[31m19.8 MB/s\u001b[0m eta \u001b[36m0:00:00\u001b[0m\n",
            "\u001b[2K     \u001b[90m━━━━━━━━━━━━━━━━━━━━━━━━━━━━━━━━━━━━━━━━\u001b[0m \u001b[32m5.9/5.9 MB\u001b[0m \u001b[31m27.8 MB/s\u001b[0m eta \u001b[36m0:00:00\u001b[0m\n",
            "\u001b[2K     \u001b[90m━━━━━━━━━━━━━━━━━━━━━━━━━━━━━━━━━━━━━━━━\u001b[0m \u001b[32m7.2/7.2 MB\u001b[0m \u001b[31m44.4 MB/s\u001b[0m eta \u001b[36m0:00:00\u001b[0m\n",
            "\u001b[2K     \u001b[90m━━━━━━━━━━━━━━━━━━━━━━━━━━━━━━━━━━━━━━━━\u001b[0m \u001b[32m7.8/7.8 MB\u001b[0m \u001b[31m51.2 MB/s\u001b[0m eta \u001b[36m0:00:00\u001b[0m\n",
            "\u001b[2K     \u001b[90m━━━━━━━━━━━━━━━━━━━━━━━━━━━━━━━━━━━━━━━━\u001b[0m \u001b[32m1.3/1.3 MB\u001b[0m \u001b[31m60.5 MB/s\u001b[0m eta \u001b[36m0:00:00\u001b[0m\n",
            "\u001b[2K     \u001b[90m━━━━━━━━━━━━━━━━━━━━━━━━━━━━━━━━━━━━━━━━\u001b[0m \u001b[32m42.2/42.2 kB\u001b[0m \u001b[31m5.0 MB/s\u001b[0m eta \u001b[36m0:00:00\u001b[0m\n",
            "\u001b[?25h  Preparing metadata (setup.py) ... \u001b[?25l\u001b[?25hdone\n",
            "\u001b[2K     \u001b[90m━━━━━━━━━━━━━━━━━━━━━━━━━━━━━━━━━━━━━━━━\u001b[0m \u001b[32m46.1/46.1 kB\u001b[0m \u001b[31m5.2 MB/s\u001b[0m eta \u001b[36m0:00:00\u001b[0m\n",
            "\u001b[2K     \u001b[90m━━━━━━━━━━━━━━━━━━━━━━━━━━━━━━━━━━━━━━\u001b[0m \u001b[32m112.5/112.5 kB\u001b[0m \u001b[31m15.2 MB/s\u001b[0m eta \u001b[36m0:00:00\u001b[0m\n",
            "\u001b[2K     \u001b[90m━━━━━━━━━━━━━━━━━━━━━━━━━━━━━━━━━━━━━━━━\u001b[0m \u001b[32m46.0/46.0 kB\u001b[0m \u001b[31m5.8 MB/s\u001b[0m eta \u001b[36m0:00:00\u001b[0m\n",
            "\u001b[2K     \u001b[90m━━━━━━━━━━━━━━━━━━━━━━━━━━━━━━━━━━━━━━━━\u001b[0m \u001b[32m86.8/86.8 kB\u001b[0m \u001b[31m12.0 MB/s\u001b[0m eta \u001b[36m0:00:00\u001b[0m\n",
            "\u001b[2K     \u001b[90m━━━━━━━━━━━━━━━━━━━━━━━━━━━━━━━━━━━━━━━━\u001b[0m \u001b[32m2.2/2.2 MB\u001b[0m \u001b[31m96.9 MB/s\u001b[0m eta \u001b[36m0:00:00\u001b[0m\n",
            "\u001b[2K     \u001b[90m━━━━━━━━━━━━━━━━━━━━━━━━━━━━━━━━━━━━━━━━\u001b[0m \u001b[32m79.5/79.5 kB\u001b[0m \u001b[31m10.4 MB/s\u001b[0m eta \u001b[36m0:00:00\u001b[0m\n",
            "\u001b[2K     \u001b[90m━━━━━━━━━━━━━━━━━━━━━━━━━━━━━━━━━━━━━━\u001b[0m \u001b[32m143.6/143.6 kB\u001b[0m \u001b[31m18.9 MB/s\u001b[0m eta \u001b[36m0:00:00\u001b[0m\n",
            "\u001b[2K     \u001b[90m━━━━━━━━━━━━━━━━━━━━━━━━━━━━━━━━━━━━━━\u001b[0m \u001b[32m117.0/117.0 kB\u001b[0m \u001b[31m15.6 MB/s\u001b[0m eta \u001b[36m0:00:00\u001b[0m\n",
            "\u001b[?25h  Preparing metadata (setup.py) ... \u001b[?25l\u001b[?25hdone\n",
            "  Building wheel for iopath (setup.py) ... \u001b[?25l\u001b[?25hdone\n",
            "  Building wheel for antlr4-python3-runtime (setup.py) ... \u001b[?25l\u001b[?25hdone\n",
            "  Preparing metadata (setup.py) ... \u001b[?25l\u001b[?25hdone\n",
            "\u001b[2K     \u001b[90m━━━━━━━━━━━━━━━━━━━━━━━━━━━━━━━━━━━━━━━━\u001b[0m \u001b[32m50.2/50.2 kB\u001b[0m \u001b[31m3.7 MB/s\u001b[0m eta \u001b[36m0:00:00\u001b[0m\n",
            "\u001b[?25h  Preparing metadata (setup.py) ... \u001b[?25l\u001b[?25hdone\n",
            "\u001b[2K     \u001b[90m━━━━━━━━━━━━━━━━━━━━━━━━━━━━━━━━━━━━━━\u001b[0m \u001b[32m154.5/154.5 kB\u001b[0m \u001b[31m15.6 MB/s\u001b[0m eta \u001b[36m0:00:00\u001b[0m\n",
            "\u001b[2K     \u001b[90m━━━━━━━━━━━━━━━━━━━━━━━━━━━━━━━━━━━━━━\u001b[0m \u001b[32m131.0/131.0 kB\u001b[0m \u001b[31m13.2 MB/s\u001b[0m eta \u001b[36m0:00:00\u001b[0m\n",
            "\u001b[?25h  Building wheel for detectron2 (setup.py) ... \u001b[?25l\u001b[?25hdone\n",
            "  Building wheel for fvcore (setup.py) ... \u001b[?25l\u001b[?25hdone\n"
          ]
        }
      ]
    },
    {
      "cell_type": "code",
      "source": [
        "!apt-get install poppler-utils"
      ],
      "metadata": {
        "colab": {
          "base_uri": "https://localhost:8080/"
        },
        "id": "frNyolK0oqoj",
        "outputId": "013ea4f6-fa9d-49e9-dc6f-f78dd6f3d934"
      },
      "execution_count": 5,
      "outputs": [
        {
          "output_type": "stream",
          "name": "stdout",
          "text": [
            "Reading package lists... Done\n",
            "Building dependency tree       \n",
            "Reading state information... Done\n",
            "The following NEW packages will be installed:\n",
            "  poppler-utils\n",
            "0 upgraded, 1 newly installed, 0 to remove and 15 not upgraded.\n",
            "Need to get 174 kB of archives.\n",
            "After this operation, 754 kB of additional disk space will be used.\n",
            "Get:1 http://archive.ubuntu.com/ubuntu focal-updates/main amd64 poppler-utils amd64 0.86.1-0ubuntu1.1 [174 kB]\n",
            "Fetched 174 kB in 1s (347 kB/s)\n",
            "debconf: apt-extracttemplates failed: No such file or directory\n",
            "E: Sub-process /usr/sbin/dpkg-preconfigure --apt || true received signal 2.\n",
            "E: Failure running script /usr/sbin/dpkg-preconfigure --apt || true\n"
          ]
        }
      ]
    },
    {
      "cell_type": "code",
      "source": [
        "from google.colab import drive\n",
        "drive.mount('/content/drive')"
      ],
      "metadata": {
        "colab": {
          "base_uri": "https://localhost:8080/"
        },
        "id": "00NuS_Lhpevp",
        "outputId": "a2181a37-9d7b-4d5f-a217-7625867940b7"
      },
      "execution_count": 4,
      "outputs": [
        {
          "output_type": "stream",
          "name": "stdout",
          "text": [
            "Mounted at /content/drive\n"
          ]
        }
      ]
    },
    {
      "cell_type": "code",
      "source": [
        "from langchain.document_loaders import DirectoryLoader\n",
        "\n",
        "directory = '/content/data'\n"
      ],
      "metadata": {
        "id": "d5w_E-RYpoGT"
      },
      "execution_count": 6,
      "outputs": []
    },
    {
      "cell_type": "code",
      "source": [
        "print(directory)"
      ],
      "metadata": {
        "colab": {
          "base_uri": "https://localhost:8080/"
        },
        "id": "QsNkmgOmMybX",
        "outputId": "1608a59c-6cc0-4d56-c32b-fc90d3df202f"
      },
      "execution_count": 7,
      "outputs": [
        {
          "output_type": "stream",
          "name": "stdout",
          "text": [
            "/content/data\n"
          ]
        }
      ]
    },
    {
      "cell_type": "code",
      "source": [
        "pip install --upgrade --force-reinstall Pillow\n"
      ],
      "metadata": {
        "id": "qx_QuSrWtIGj",
        "colab": {
          "base_uri": "https://localhost:8080/",
          "height": 266
        },
        "outputId": "036e295f-7e5f-4c25-97d3-564e0bb5d291"
      },
      "execution_count": 3,
      "outputs": [
        {
          "output_type": "stream",
          "name": "stdout",
          "text": [
            "Collecting Pillow\n",
            "  Downloading Pillow-10.0.0-cp310-cp310-manylinux_2_28_x86_64.whl (3.4 MB)\n",
            "\u001b[2K     \u001b[90m━━━━━━━━━━━━━━━━━━━━━━━━━━━━━━━━━━━━━━━━\u001b[0m \u001b[32m3.4/3.4 MB\u001b[0m \u001b[31m27.1 MB/s\u001b[0m eta \u001b[36m0:00:00\u001b[0m\n",
            "\u001b[?25hInstalling collected packages: Pillow\n",
            "  Attempting uninstall: Pillow\n",
            "    Found existing installation: Pillow 8.4.0\n",
            "    Uninstalling Pillow-8.4.0:\n",
            "      Successfully uninstalled Pillow-8.4.0\n",
            "Successfully installed Pillow-10.0.0\n"
          ]
        },
        {
          "output_type": "display_data",
          "data": {
            "application/vnd.colab-display-data+json": {
              "pip_warning": {
                "packages": [
                  "PIL"
                ]
              }
            }
          },
          "metadata": {}
        }
      ]
    },
    {
      "cell_type": "code",
      "source": [
        "def load_docs(directory):\n",
        "  loader = DirectoryLoader(directory)\n",
        "  documents = loader.load()\n",
        "  return documents\n",
        "\n",
        "documents = load_docs(directory)\n",
        "len(documents)"
      ],
      "metadata": {
        "id": "PSy_KvAjsKaC",
        "colab": {
          "base_uri": "https://localhost:8080/"
        },
        "outputId": "78f87fb0-2e24-4621-e255-4df32ca7d426"
      },
      "execution_count": 8,
      "outputs": [
        {
          "output_type": "stream",
          "name": "stderr",
          "text": [
            "[nltk_data] Downloading package punkt to /root/nltk_data...\n",
            "[nltk_data]   Unzipping tokenizers/punkt.zip.\n",
            "[nltk_data] Downloading package averaged_perceptron_tagger to\n",
            "[nltk_data]     /root/nltk_data...\n",
            "[nltk_data]   Unzipping taggers/averaged_perceptron_tagger.zip.\n"
          ]
        },
        {
          "output_type": "execute_result",
          "data": {
            "text/plain": [
              "2"
            ]
          },
          "metadata": {},
          "execution_count": 8
        }
      ]
    },
    {
      "cell_type": "markdown",
      "source": [
        "**Text Splitter**"
      ],
      "metadata": {
        "id": "CkkfB4PvAw8F"
      }
    },
    {
      "cell_type": "code",
      "source": [
        "from langchain.text_splitter import RecursiveCharacterTextSplitter\n",
        "\n",
        "def split_docs(documents,chunk_size=1000,chunk_overlap=20):\n",
        "  text_splitter = RecursiveCharacterTextSplitter(chunk_size=chunk_size, chunk_overlap=chunk_overlap)\n",
        "  docs = text_splitter.split_documents(documents)\n",
        "  return docs\n",
        "\n",
        "docs = split_docs(documents)\n",
        "print(len(docs))\n"
      ],
      "metadata": {
        "colab": {
          "base_uri": "https://localhost:8080/"
        },
        "id": "ix8aBiBAtWad",
        "outputId": "cf7d0eb8-3fa2-42ee-a894-15928e32ae0f"
      },
      "execution_count": 9,
      "outputs": [
        {
          "output_type": "stream",
          "name": "stdout",
          "text": [
            "6\n"
          ]
        }
      ]
    },
    {
      "cell_type": "code",
      "source": [
        "print(docs, \"/n\")"
      ],
      "metadata": {
        "colab": {
          "base_uri": "https://localhost:8080/"
        },
        "id": "2m65z4V4M1Zd",
        "outputId": "5fcdd368-fcba-4cd5-ba21-dd6b233bc9ca"
      },
      "execution_count": 10,
      "outputs": [
        {
          "output_type": "stream",
          "name": "stdout",
          "text": [
            "[Document(page_content='Capital Markets\\n\\nSocial Capital Markets Digital Transformation of Capital Market Value Chain The banking and financial services industry operates within the ‘new normal’ today. The sector is dominated by ever-tightening regulations, digital banking, and omni-channel customer experiences. Compressing costs, including high Run-the-Bank (RTB) costs, due to high FTE-based pricing models, is a top challenge for the industry. Succeeding in this environment requires industry players to strike a balance between operational optimization and the infusion of digital transformation. While technologies such as; Big Data, cloud, mobile, IoT and AI/ML are already transforming the way business is done, banks need to optimize data management further. Leveraging analytics will help the industry boost enterprise resilience, increase cross-selling opportunities, enhance customer value, and maximize their wallet share.\\n\\nOur Experience', metadata={'source': '/content/data/web1.txt'}), Document(page_content='Our Experience\\n\\nOur rich experience in partnering with leading global banks and financial institutions enables us to offer comprehensive solutions that meet the evolving needs of the banking industry. Analytics and data management solutions aligned to our organizational strategy – AUTOMATE EVERYTHING®, CLOUDIFY EVERYTHING® and TRANSFORM CUSTOMER EXPERIENCES®, are delivered through a process-driven approach, helping banks successfully embark on their ‘data-to-digital’ journey to achieve the desired end-to-end transformation of their operations.', metadata={'source': '/content/data/web1.txt'}), Document(page_content='Banking Services Transformative banking solutions to meet evolving business and customer requirements Share : Modernizing the banking landscape\\n\\nTechnology is constantly changing the way we bank. Banks are shifting from brick and mortar branches to remote digital personas. Banking today is anywhere and anytime, allowing customers to transact; as per their convenience.\\n\\nBanks have rediscovered their journey by leveraging next-gen technologies, creating value from data and elevating customer experiences. From fulfilling changing customer expectations, to reinventing new business models; banks are providing integrated solutions to address industry challenges and are increasingly putting customer lifestyles; at the center of every strategy.\\n\\nAs a vertical, servicing one of the most technologically mature industry segment, Hexaware banking IT services combines the vision of a start-up with 28 years of delivery excellence.Banking technology solutions', metadata={'source': '/content/data/web2.txt'}), Document(page_content='Hexaware’s banking technology solutions are defined by the market segmentation of Traditional Incumbent Banks, Digital Banks by Incumbents, Born Digital Banks and Tech Digital Banks. We base our approach on the varying degree of digital enablement required in each of these segments. So, at one end of the spectrum, we look at augmenting and enabling the legacy platforms with microservices and niche fintech solutions, while the other end is serviced via greenfield implementations and first-time integrations.Our three-pronged strategy\\n\\nWe have a three-pronged outlook to servicing our banking clients:\\n\\nDomain context-driven solutions, leveraging Hexaware’s three brand identities; Mobiquity, Amaze® and Tensai®\\n\\nBanking partnerships and fintech collaboration; incubating working prototypes in the banking virtual lab\\n\\nFocus on strategic consulting, transformation solution and Business-as-Usual services; across consumer banking, corporate banking, cards and payments.', metadata={'source': '/content/data/web2.txt'}), Document(page_content='Bringing together the skills, technical expertise and capabilities, we aim to redefine the banking ecosystem by elevating the customer experience and enabling the banks to seize value-driven opportunities.Lego Blocks for TransformationBanking as a Service Re-imagine your Bank Fintech-i-fy your Landscape Data Monetization in Banking Banking as a LifestyleOur brand strategy Amaze®\\n\\nFull Cloud Enablement. Facilitate modernization and extend the digital footprint of your enterprise by bringing your data infrastructure and applications to the cloud in an extremely fast, cost predictable, secure and co-engineered manner.\\n\\nMobiquity\\n\\nDigital Product Engineering. Building digital banking products and services that delight people, deliver on your brand promise, and realize business results. Paired with a full range of marketing services to launch, amplify and continuously improve your products.\\n\\nTensai®', metadata={'source': '/content/data/web2.txt'}), Document(page_content='Tensai®\\n\\nExtreme Automation. Explore, visualize and analyze core systems data, generate custom dashboards, and facilitate effective day-to-day operations.We provide services for technology and operations transformations in the banking domain with deep subject matter expertise, experience in disruptive technologies, and flexible onsite/offshore/nearshore delivery models, bringing compounded value in a managed services model.\\n\\nWe are inspired by the optimal balance of unique human expertise with vast technological prowess to achieve a seemingly infinite digital transformation in the banking sector.Hexaware One of Only Four Providers to Have Four or More Standouts in the ISG Digital Case Study Awards™ for Their Best-in-Class Digital Transformation Work with Enterprise Customers\\n\\nCase Study: Digital banking platform launches in time to address usage surge', metadata={'source': '/content/data/web2.txt'})] /n\n"
          ]
        }
      ]
    },
    {
      "cell_type": "code",
      "source": [
        "print(docs[0].page_content)\n"
      ],
      "metadata": {
        "colab": {
          "base_uri": "https://localhost:8080/"
        },
        "id": "WL5ZH134tfBJ",
        "outputId": "9808c844-7a48-4f36-aab9-9eeaa43d5a5c"
      },
      "execution_count": 11,
      "outputs": [
        {
          "output_type": "stream",
          "name": "stdout",
          "text": [
            "Capital Markets\n",
            "\n",
            "Social Capital Markets Digital Transformation of Capital Market Value Chain The banking and financial services industry operates within the ‘new normal’ today. The sector is dominated by ever-tightening regulations, digital banking, and omni-channel customer experiences. Compressing costs, including high Run-the-Bank (RTB) costs, due to high FTE-based pricing models, is a top challenge for the industry. Succeeding in this environment requires industry players to strike a balance between operational optimization and the infusion of digital transformation. While technologies such as; Big Data, cloud, mobile, IoT and AI/ML are already transforming the way business is done, banks need to optimize data management further. Leveraging analytics will help the industry boost enterprise resilience, increase cross-selling opportunities, enhance customer value, and maximize their wallet share.\n",
            "\n",
            "Our Experience\n"
          ]
        }
      ]
    },
    {
      "cell_type": "code",
      "source": [
        "print(docs[1].page_content)\n"
      ],
      "metadata": {
        "colab": {
          "base_uri": "https://localhost:8080/"
        },
        "id": "w9LhvB8IYNYr",
        "outputId": "8de1465d-838a-446c-e828-77f0b69cee51"
      },
      "execution_count": 12,
      "outputs": [
        {
          "output_type": "stream",
          "name": "stdout",
          "text": [
            "Our Experience\n",
            "\n",
            "Our rich experience in partnering with leading global banks and financial institutions enables us to offer comprehensive solutions that meet the evolving needs of the banking industry. Analytics and data management solutions aligned to our organizational strategy – AUTOMATE EVERYTHING®, CLOUDIFY EVERYTHING® and TRANSFORM CUSTOMER EXPERIENCES®, are delivered through a process-driven approach, helping banks successfully embark on their ‘data-to-digital’ journey to achieve the desired end-to-end transformation of their operations.\n"
          ]
        }
      ]
    },
    {
      "cell_type": "code",
      "source": [
        "print(docs[2].page_content)\n"
      ],
      "metadata": {
        "colab": {
          "base_uri": "https://localhost:8080/"
        },
        "id": "raKHJ6CpYP3-",
        "outputId": "31afa486-0ee6-431f-ebba-06df85c740c6"
      },
      "execution_count": 13,
      "outputs": [
        {
          "output_type": "stream",
          "name": "stdout",
          "text": [
            "Banking Services Transformative banking solutions to meet evolving business and customer requirements Share : Modernizing the banking landscape\n",
            "\n",
            "Technology is constantly changing the way we bank. Banks are shifting from brick and mortar branches to remote digital personas. Banking today is anywhere and anytime, allowing customers to transact; as per their convenience.\n",
            "\n",
            "Banks have rediscovered their journey by leveraging next-gen technologies, creating value from data and elevating customer experiences. From fulfilling changing customer expectations, to reinventing new business models; banks are providing integrated solutions to address industry challenges and are increasingly putting customer lifestyles; at the center of every strategy.\n",
            "\n",
            "As a vertical, servicing one of the most technologically mature industry segment, Hexaware banking IT services combines the vision of a start-up with 28 years of delivery excellence.Banking technology solutions\n"
          ]
        }
      ]
    },
    {
      "cell_type": "code",
      "source": [
        "print(docs[5].page_content)\n"
      ],
      "metadata": {
        "colab": {
          "base_uri": "https://localhost:8080/"
        },
        "id": "NdFwbGqAtily",
        "outputId": "97e91c62-2fe2-47e8-ccce-8a623095f8f0"
      },
      "execution_count": 14,
      "outputs": [
        {
          "output_type": "stream",
          "name": "stdout",
          "text": [
            "Tensai®\n",
            "\n",
            "Extreme Automation. Explore, visualize and analyze core systems data, generate custom dashboards, and facilitate effective day-to-day operations.We provide services for technology and operations transformations in the banking domain with deep subject matter expertise, experience in disruptive technologies, and flexible onsite/offshore/nearshore delivery models, bringing compounded value in a managed services model.\n",
            "\n",
            "We are inspired by the optimal balance of unique human expertise with vast technological prowess to achieve a seemingly infinite digital transformation in the banking sector.Hexaware One of Only Four Providers to Have Four or More Standouts in the ISG Digital Case Study Awards™ for Their Best-in-Class Digital Transformation Work with Enterprise Customers\n",
            "\n",
            "Case Study: Digital banking platform launches in time to address usage surge\n"
          ]
        }
      ]
    },
    {
      "cell_type": "code",
      "source": [
        "print(docs)"
      ],
      "metadata": {
        "colab": {
          "base_uri": "https://localhost:8080/"
        },
        "id": "r_K_uM8DfjCh",
        "outputId": "f83b32bc-2a7f-417b-d9ac-1ea320ba5bba"
      },
      "execution_count": 15,
      "outputs": [
        {
          "output_type": "stream",
          "name": "stdout",
          "text": [
            "[Document(page_content='Capital Markets\\n\\nSocial Capital Markets Digital Transformation of Capital Market Value Chain The banking and financial services industry operates within the ‘new normal’ today. The sector is dominated by ever-tightening regulations, digital banking, and omni-channel customer experiences. Compressing costs, including high Run-the-Bank (RTB) costs, due to high FTE-based pricing models, is a top challenge for the industry. Succeeding in this environment requires industry players to strike a balance between operational optimization and the infusion of digital transformation. While technologies such as; Big Data, cloud, mobile, IoT and AI/ML are already transforming the way business is done, banks need to optimize data management further. Leveraging analytics will help the industry boost enterprise resilience, increase cross-selling opportunities, enhance customer value, and maximize their wallet share.\\n\\nOur Experience', metadata={'source': '/content/data/web1.txt'}), Document(page_content='Our Experience\\n\\nOur rich experience in partnering with leading global banks and financial institutions enables us to offer comprehensive solutions that meet the evolving needs of the banking industry. Analytics and data management solutions aligned to our organizational strategy – AUTOMATE EVERYTHING®, CLOUDIFY EVERYTHING® and TRANSFORM CUSTOMER EXPERIENCES®, are delivered through a process-driven approach, helping banks successfully embark on their ‘data-to-digital’ journey to achieve the desired end-to-end transformation of their operations.', metadata={'source': '/content/data/web1.txt'}), Document(page_content='Banking Services Transformative banking solutions to meet evolving business and customer requirements Share : Modernizing the banking landscape\\n\\nTechnology is constantly changing the way we bank. Banks are shifting from brick and mortar branches to remote digital personas. Banking today is anywhere and anytime, allowing customers to transact; as per their convenience.\\n\\nBanks have rediscovered their journey by leveraging next-gen technologies, creating value from data and elevating customer experiences. From fulfilling changing customer expectations, to reinventing new business models; banks are providing integrated solutions to address industry challenges and are increasingly putting customer lifestyles; at the center of every strategy.\\n\\nAs a vertical, servicing one of the most technologically mature industry segment, Hexaware banking IT services combines the vision of a start-up with 28 years of delivery excellence.Banking technology solutions', metadata={'source': '/content/data/web2.txt'}), Document(page_content='Hexaware’s banking technology solutions are defined by the market segmentation of Traditional Incumbent Banks, Digital Banks by Incumbents, Born Digital Banks and Tech Digital Banks. We base our approach on the varying degree of digital enablement required in each of these segments. So, at one end of the spectrum, we look at augmenting and enabling the legacy platforms with microservices and niche fintech solutions, while the other end is serviced via greenfield implementations and first-time integrations.Our three-pronged strategy\\n\\nWe have a three-pronged outlook to servicing our banking clients:\\n\\nDomain context-driven solutions, leveraging Hexaware’s three brand identities; Mobiquity, Amaze® and Tensai®\\n\\nBanking partnerships and fintech collaboration; incubating working prototypes in the banking virtual lab\\n\\nFocus on strategic consulting, transformation solution and Business-as-Usual services; across consumer banking, corporate banking, cards and payments.', metadata={'source': '/content/data/web2.txt'}), Document(page_content='Bringing together the skills, technical expertise and capabilities, we aim to redefine the banking ecosystem by elevating the customer experience and enabling the banks to seize value-driven opportunities.Lego Blocks for TransformationBanking as a Service Re-imagine your Bank Fintech-i-fy your Landscape Data Monetization in Banking Banking as a LifestyleOur brand strategy Amaze®\\n\\nFull Cloud Enablement. Facilitate modernization and extend the digital footprint of your enterprise by bringing your data infrastructure and applications to the cloud in an extremely fast, cost predictable, secure and co-engineered manner.\\n\\nMobiquity\\n\\nDigital Product Engineering. Building digital banking products and services that delight people, deliver on your brand promise, and realize business results. Paired with a full range of marketing services to launch, amplify and continuously improve your products.\\n\\nTensai®', metadata={'source': '/content/data/web2.txt'}), Document(page_content='Tensai®\\n\\nExtreme Automation. Explore, visualize and analyze core systems data, generate custom dashboards, and facilitate effective day-to-day operations.We provide services for technology and operations transformations in the banking domain with deep subject matter expertise, experience in disruptive technologies, and flexible onsite/offshore/nearshore delivery models, bringing compounded value in a managed services model.\\n\\nWe are inspired by the optimal balance of unique human expertise with vast technological prowess to achieve a seemingly infinite digital transformation in the banking sector.Hexaware One of Only Four Providers to Have Four or More Standouts in the ISG Digital Case Study Awards™ for Their Best-in-Class Digital Transformation Work with Enterprise Customers\\n\\nCase Study: Digital banking platform launches in time to address usage surge', metadata={'source': '/content/data/web2.txt'})]\n"
          ]
        }
      ]
    },
    {
      "cell_type": "code",
      "source": [
        "#requires for open ai embedding\n",
        "!pip install tiktoken -q\n"
      ],
      "metadata": {
        "id": "aTZTv2s7tmK8",
        "colab": {
          "base_uri": "https://localhost:8080/"
        },
        "outputId": "1c55fc46-df3f-4cad-f8c2-c55035a5bf63"
      },
      "execution_count": 16,
      "outputs": [
        {
          "output_type": "stream",
          "name": "stdout",
          "text": [
            "\u001b[?25l     \u001b[90m━━━━━━━━━━━━━━━━━━━━━━━━━━━━━━━━━━━━━━━━\u001b[0m \u001b[32m0.0/1.7 MB\u001b[0m \u001b[31m?\u001b[0m eta \u001b[36m-:--:--\u001b[0m\r\u001b[2K     \u001b[91m━━━━━━━━━━━━━━━━━━━━━━━━━━━━━━\u001b[0m\u001b[91m╸\u001b[0m\u001b[90m━━━━━━━━━\u001b[0m \u001b[32m1.3/1.7 MB\u001b[0m \u001b[31m39.8 MB/s\u001b[0m eta \u001b[36m0:00:01\u001b[0m\r\u001b[2K     \u001b[90m━━━━━━━━━━━━━━━━━━━━━━━━━━━━━━━━━━━━━━━━\u001b[0m \u001b[32m1.7/1.7 MB\u001b[0m \u001b[31m35.0 MB/s\u001b[0m eta \u001b[36m0:00:00\u001b[0m\n",
            "\u001b[?25h"
          ]
        }
      ]
    },
    {
      "cell_type": "markdown",
      "source": [
        "**Embeddings**"
      ],
      "metadata": {
        "id": "G06P5uD5Asdt"
      }
    },
    {
      "cell_type": "code",
      "source": [
        "import openai\n",
        "from langchain.embeddings.openai import OpenAIEmbeddings\n",
        "\n",
        "embeddings = OpenAIEmbeddings(model=\"code-davinci-002\")\n",
        "\n",
        "query_result = embeddings.embed_query(\"Hello world\")\n",
        "len(query_result)\n"
      ],
      "metadata": {
        "id": "HR8NMjLAtqWZ",
        "colab": {
          "base_uri": "https://localhost:8080/"
        },
        "outputId": "32610dd9-115a-4dea-c9c2-913a4407d4b3"
      },
      "execution_count": 17,
      "outputs": [
        {
          "output_type": "execute_result",
          "data": {
            "text/plain": [
              "1536"
            ]
          },
          "metadata": {},
          "execution_count": 17
        }
      ]
    },
    {
      "cell_type": "code",
      "source": [],
      "metadata": {
        "id": "M05GVvu0EvdS"
      },
      "execution_count": 20,
      "outputs": []
    },
    {
      "cell_type": "code",
      "source": [
        "!pip install pinecone-client -q\n"
      ],
      "metadata": {
        "id": "BeX7ae-jGCfx",
        "colab": {
          "base_uri": "https://localhost:8080/"
        },
        "outputId": "d472d819-5d6c-4e8c-a9f8-2b3299425a2c"
      },
      "execution_count": 18,
      "outputs": [
        {
          "output_type": "stream",
          "name": "stdout",
          "text": [
            "\u001b[?25l     \u001b[90m━━━━━━━━━━━━━━━━━━━━━━━━━━━━━━━━━━━━━━━━\u001b[0m \u001b[32m0.0/179.1 kB\u001b[0m \u001b[31m?\u001b[0m eta \u001b[36m-:--:--\u001b[0m\r\u001b[2K     \u001b[90m━━━━━━━━━━━━━━━━━━━━━━━━━━━━━━━━━━━━━━━\u001b[0m \u001b[32m179.1/179.1 kB\u001b[0m \u001b[31m9.4 MB/s\u001b[0m eta \u001b[36m0:00:00\u001b[0m\n",
            "\u001b[2K     \u001b[90m━━━━━━━━━━━━━━━━━━━━━━━━━━━━━━━━━━━━━━━━\u001b[0m \u001b[32m60.0/60.0 kB\u001b[0m \u001b[31m5.9 MB/s\u001b[0m eta \u001b[36m0:00:00\u001b[0m\n",
            "\u001b[2K     \u001b[90m━━━━━━━━━━━━━━━━━━━━━━━━━━━━━━━━━━━━━━\u001b[0m \u001b[32m283.7/283.7 kB\u001b[0m \u001b[31m24.5 MB/s\u001b[0m eta \u001b[36m0:00:00\u001b[0m\n",
            "\u001b[?25h"
          ]
        }
      ]
    },
    {
      "cell_type": "markdown",
      "source": [
        "**Vector** **Database**"
      ],
      "metadata": {
        "id": "ZE8zIvAF_0yo"
      }
    },
    {
      "cell_type": "code",
      "source": [
        "import pinecone\n",
        "from langchain.vectorstores import Pinecone\n",
        "# initialize pinecone\n",
        "pinecone.init(\n",
        "    api_key=\"\",  # find at app.pinecone.io\n",
        "    environment=\"asia-southeast1-gcp-free\"  # next to api key in console\n",
        ")\n",
        "\n",
        "index_name = \"dem1\"\n",
        "\n",
        "index = Pinecone.from_documents(docs, embeddings, index_name=index_name)\n"
      ],
      "metadata": {
        "id": "DG5spCtGE90A"
      },
      "execution_count": 21,
      "outputs": []
    },
    {
      "cell_type": "code",
      "source": [
        "def get_similiar_docs(query,k=2,score=False):\n",
        "  if score:\n",
        "    similar_docs = index.similarity_search_with_score(query,k=k)\n",
        "  else:\n",
        "    similar_docs = index.similarity_search(query,k=k)\n",
        "  return similar_docs\n",
        "\n",
        "query = \"summary\"\n",
        "similar_docs = get_similiar_docs(query)\n",
        "similar_docs"
      ],
      "metadata": {
        "colab": {
          "base_uri": "https://localhost:8080/"
        },
        "id": "dXKE0XNc2qK3",
        "outputId": "3347eb56-780f-4b42-a1be-14b80b820f24"
      },
      "execution_count": 22,
      "outputs": [
        {
          "output_type": "execute_result",
          "data": {
            "text/plain": [
              "[Document(page_content='Our Experience\\n\\nOur rich experience in partnering with leading global banks and financial institutions enables us to offer comprehensive solutions that meet the evolving needs of the banking industry. Analytics and data management solutions aligned to our organizational strategy – AUTOMATE EVERYTHING®, CLOUDIFY EVERYTHING® and TRANSFORM CUSTOMER EXPERIENCES®, are delivered through a process-driven approach, helping banks successfully embark on their ‘data-to-digital’ journey to achieve the desired end-to-end transformation of their operations.', metadata={'source': '/content/data/web1.txt'}),\n",
              " Document(page_content='Our Experience\\n\\nOur rich experience in partnering with leading global banks and financial institutions enables us to offer comprehensive solutions that meet the evolving needs of the banking industry. Analytics and data management solutions aligned to our organizational strategy – AUTOMATE EVERYTHING®, CLOUDIFY EVERYTHING® and TRANSFORM CUSTOMER EXPERIENCES®, are delivered through a process-driven approach, helping banks successfully embark on their ‘data-to-digital’ journey to achieve the desired end-to-end transformation of their operations.', metadata={'source': '/content/data/web1.txt'})]"
            ]
          },
          "metadata": {},
          "execution_count": 22
        }
      ]
    },
    {
      "cell_type": "code",
      "source": [
        "from langchain.llms import OpenAI\n",
        "\n",
        "model= \"text-davinci-002\"\n",
        "#model= \"gpt-3.5-turbo\"\n",
        "#model = \"gpt-4\"\n",
        "\n",
        "\n",
        "\n",
        "llm = OpenAI(model = model)"
      ],
      "metadata": {
        "id": "q19UD6QX3CUi"
      },
      "execution_count": 23,
      "outputs": []
    },
    {
      "cell_type": "code",
      "source": [
        "from langchain.chains.question_answering import load_qa_chain\n",
        "chain = load_qa_chain(llm, chain_type=\"stuff\")\n",
        "\n",
        "def get_answer(query):\n",
        "    #similar_docs = get_similar_docs(query)\n",
        "    answer = chain.run(input_documents=similar_docs, question=query)\n",
        "    return answer\n",
        "\n",
        "query = \"summary\"\n",
        "answer = get_answer(query)\n",
        "print(answer)\n"
      ],
      "metadata": {
        "colab": {
          "base_uri": "https://localhost:8080/"
        },
        "id": "qVPPbLmG3Hpf",
        "outputId": "5101451a-0952-4310-ebd6-7d8dab545469"
      },
      "execution_count": 24,
      "outputs": [
        {
          "output_type": "stream",
          "name": "stdout",
          "text": [
            "\n",
            "\n",
            "This company has a lot of experience working with banks and other financial institutions to provide solutions that meet their needs. Their solutions are based on three main pillars: automating everything, moving everything to the cloud, and transforming customer experiences. They use a process-driven approach to help banks successfully make the transition to a digital way of operating.\n"
          ]
        }
      ]
    },
    {
      "cell_type": "markdown",
      "source": [
        "**Generative Question Answering**\n",
        "\n",
        "\n",
        "\n"
      ],
      "metadata": {
        "id": "dHsJh-fy_POI"
      }
    },
    {
      "cell_type": "code",
      "source": [
        "query = \"what is hexaware\"\n",
        "get_answer(query)"
      ],
      "metadata": {
        "colab": {
          "base_uri": "https://localhost:8080/",
          "height": 35
        },
        "id": "I20NHKUIBz-q",
        "outputId": "a28f9212-138b-47c0-e7ce-c13a20fa2e7f"
      },
      "execution_count": 26,
      "outputs": [
        {
          "output_type": "execute_result",
          "data": {
            "text/plain": [
              "'\\n\\nHexaware is a global IT services company that offers comprehensive solutions to meet the evolving needs of the banking industry.'"
            ],
            "application/vnd.google.colaboratory.intrinsic+json": {
              "type": "string"
            }
          },
          "metadata": {},
          "execution_count": 26
        }
      ]
    },
    {
      "cell_type": "code",
      "source": [
        "query = \"banking partnership\"\n",
        "get_answer(query)"
      ],
      "metadata": {
        "colab": {
          "base_uri": "https://localhost:8080/",
          "height": 71
        },
        "id": "hyoS98PLG9kV",
        "outputId": "10bd0e61-35b1-4062-aae6-49d1577fbe72"
      },
      "execution_count": 27,
      "outputs": [
        {
          "output_type": "execute_result",
          "data": {
            "text/plain": [
              "\"\\n\\nOur experience in partnering with leading global banks and financial institutions enables us to offer comprehensive solutions that meet the evolving needs of the banking industry. Our process-driven approach helps banks successfully embark on their 'data-to-digital' journey to achieve the desired end-to-end transformation of their operations.\""
            ],
            "application/vnd.google.colaboratory.intrinsic+json": {
              "type": "string"
            }
          },
          "metadata": {},
          "execution_count": 27
        }
      ]
    },
    {
      "cell_type": "code",
      "source": [
        "query = \"three brand partner of Hexaware\"\n",
        "get_answer(query)"
      ],
      "metadata": {
        "colab": {
          "base_uri": "https://localhost:8080/",
          "height": 35
        },
        "id": "8pNc7updlQ3D",
        "outputId": "c30345ba-75e5-4be3-acdd-b95790ba49bc"
      },
      "execution_count": 29,
      "outputs": [
        {
          "output_type": "execute_result",
          "data": {
            "text/plain": [
              "\" Hexaware's brand partners are AUTOMATE EVERYTHING®, CLOUDIFY EVERYTHING®, and TRANSFORM CUSTOMER EXPERIENCES®.\""
            ],
            "application/vnd.google.colaboratory.intrinsic+json": {
              "type": "string"
            }
          },
          "metadata": {},
          "execution_count": 29
        }
      ]
    },
    {
      "cell_type": "code",
      "source": [
        "query = \"tell me about Tensai\"\n",
        "get_answer(query)"
      ],
      "metadata": {
        "colab": {
          "base_uri": "https://localhost:8080/",
          "height": 106
        },
        "id": "S0e86uohvavA",
        "outputId": "692de664-ceb3-4de6-87df-bcc5d2ab6765"
      },
      "execution_count": 30,
      "outputs": [
        {
          "output_type": "execute_result",
          "data": {
            "text/plain": [
              "' Tensai International is a business and technology consulting firm. We have a rich experience in partnering with leading global banks and financial institutions, which enables us to offer comprehensive solutions that meet the evolving needs of the banking industry. Our Analytics and data management solutions are aligned to our organizational strategy – AUTOMATE EVERYTHING®, CLOUDIFY EVERYTHING® and TRANSFORM CUSTOMER EXPERIENCES®, and are delivered through a process-driven approach. This helps banks successfully embark on their ‘data-to-digital’ journey to achieve the desired end-to-end transformation of their operations.'"
            ],
            "application/vnd.google.colaboratory.intrinsic+json": {
              "type": "string"
            }
          },
          "metadata": {},
          "execution_count": 30
        }
      ]
    },
    {
      "cell_type": "code",
      "source": [
        "query = \"Hexaware experience in Capital markets\"\n",
        "get_answer(query)"
      ],
      "metadata": {
        "colab": {
          "base_uri": "https://localhost:8080/",
          "height": 89
        },
        "id": "9KbXzVZcFTD_",
        "outputId": "bc6fd42f-9280-474e-9fcb-cb97c7eb8813"
      },
      "execution_count": 35,
      "outputs": [
        {
          "output_type": "execute_result",
          "data": {
            "text/plain": [
              "'\\n\\nHexaware has a rich experience in partnering with leading global banks and financial institutions, which enables us to offer comprehensive solutions that meet the evolving needs of the banking industry. Our analytics and data management solutions are aligned with our organizational strategy – AUTOMATE EVERYTHING®, CLOUDIFY EVERYTHING® and TRANSFORM CUSTOMER EXPERIENCES®, and are delivered through a process-driven approach, helping banks successfully embark on their ‘data-to-digital’ journey to achieve the desired end-to-end transformation of their operations.'"
            ],
            "application/vnd.google.colaboratory.intrinsic+json": {
              "type": "string"
            }
          },
          "metadata": {},
          "execution_count": 35
        }
      ]
    },
    {
      "cell_type": "code",
      "source": [
        "query = \"what are 3 strategies of hexaware\"\n",
        "get_answer(query)"
      ],
      "metadata": {
        "colab": {
          "base_uri": "https://localhost:8080/",
          "height": 35
        },
        "id": "sI5U7WaZWeLB",
        "outputId": "57f26fe4-baf6-4b16-9a50-09b99343b279"
      },
      "execution_count": 41,
      "outputs": [
        {
          "output_type": "execute_result",
          "data": {
            "text/plain": [
              "' AUTOMATE EVERYTHING®, CLOUDIFY EVERYTHING®, and TRANSFORM CUSTOMER EXPERIENCES®'"
            ],
            "application/vnd.google.colaboratory.intrinsic+json": {
              "type": "string"
            }
          },
          "metadata": {},
          "execution_count": 41
        }
      ]
    },
    {
      "cell_type": "code",
      "source": [
        "query = \"how do you succeed in a captial market environment\"\n",
        "get_answer(query)"
      ],
      "metadata": {
        "colab": {
          "base_uri": "https://localhost:8080/",
          "height": 89
        },
        "id": "iw6XsvSFWrL5",
        "outputId": "4e918680-6e5a-420d-e685-a5264623dab2"
      },
      "execution_count": 43,
      "outputs": [
        {
          "output_type": "execute_result",
          "data": {
            "text/plain": [
              "'\\n\\nThere is no one-size-fits-all answer to this question, as the best way to succeed in a capital market environment depends on the specific goals and objectives of the organization in question. However, some tips for success in this arena include developing a strong understanding of the market, establishing clear goals and objectives, and implementing effective strategies for achieving those goals. Additionally, it is important to stay up-to-date on market trends and developments, and to be able to adapt quickly to changes in the market.'"
            ],
            "application/vnd.google.colaboratory.intrinsic+json": {
              "type": "string"
            }
          },
          "metadata": {},
          "execution_count": 43
        }
      ]
    },
    {
      "cell_type": "code",
      "source": [
        "query = \"how do you optimise the cost of run the bank\"\n",
        "get_answer(query)"
      ],
      "metadata": {
        "colab": {
          "base_uri": "https://localhost:8080/",
          "height": 35
        },
        "id": "Nf0GjwHfW3Qq",
        "outputId": "2b00f928-516c-4e63-c3a1-3e3c09052253"
      },
      "execution_count": 49,
      "outputs": [
        {
          "output_type": "execute_result",
          "data": {
            "text/plain": [
              "' Automate and cloudify everything'"
            ],
            "application/vnd.google.colaboratory.intrinsic+json": {
              "type": "string"
            }
          },
          "metadata": {},
          "execution_count": 49
        }
      ]
    },
    {
      "cell_type": "code",
      "source": [
        "query = \"banking solutions of hexaware\"\n",
        "get_answer(query)"
      ],
      "metadata": {
        "colab": {
          "base_uri": "https://localhost:8080/",
          "height": 71
        },
        "id": "ejjVOl8RXLPb",
        "outputId": "41238886-aca6-488b-b980-21a6f2684f93"
      },
      "execution_count": 50,
      "outputs": [
        {
          "output_type": "execute_result",
          "data": {
            "text/plain": [
              "'\\n\\nHexaware provides comprehensive solutions for the banking industry that aim to automate processes, improve customer experiences, and enable banks to effectively manage data. Our process-driven approach helps banks successfully transition to a digital model, allowing them to achieve the desired transformation of their operations.'"
            ],
            "application/vnd.google.colaboratory.intrinsic+json": {
              "type": "string"
            }
          },
          "metadata": {},
          "execution_count": 50
        }
      ]
    },
    {
      "cell_type": "code",
      "source": [
        "query = \"does hexaware do consulting\"\n",
        "get_answer(query)"
      ],
      "metadata": {
        "colab": {
          "base_uri": "https://localhost:8080/",
          "height": 35
        },
        "id": "88LiaTUxXVMe",
        "outputId": "a9a8321c-929a-48e7-838a-3f215be2fcbe"
      },
      "execution_count": 52,
      "outputs": [
        {
          "output_type": "execute_result",
          "data": {
            "text/plain": [
              "' Yes, Hexaware provides consulting services to leading global banks and financial institutions.'"
            ],
            "application/vnd.google.colaboratory.intrinsic+json": {
              "type": "string"
            }
          },
          "metadata": {},
          "execution_count": 52
        }
      ]
    },
    {
      "cell_type": "code",
      "source": [
        "query = \"what are the areas where hexaware consults in banking\"\n",
        "get_answer(query)"
      ],
      "metadata": {
        "colab": {
          "base_uri": "https://localhost:8080/",
          "height": 35
        },
        "id": "Sf6HDwoQXo7r",
        "outputId": "8167a1d4-4bf6-4382-cb02-fc60cde02471"
      },
      "execution_count": 53,
      "outputs": [
        {
          "output_type": "execute_result",
          "data": {
            "text/plain": [
              "'\\n\\nHexaware consults in the areas of automation, cloudification, and customer experience transformation.'"
            ],
            "application/vnd.google.colaboratory.intrinsic+json": {
              "type": "string"
            }
          },
          "metadata": {},
          "execution_count": 53
        }
      ]
    }
  ]
}